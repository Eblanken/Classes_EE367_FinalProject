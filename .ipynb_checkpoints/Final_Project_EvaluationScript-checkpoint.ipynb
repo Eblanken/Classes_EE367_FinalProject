{
 "cells": [
  {
   "cell_type": "markdown",
   "metadata": {},
   "source": [
    "# <div style=\"text-align: center\"> Final Project </div>\n",
    "<div style=\"text-align: center\"> EE367\n",
    "<br>\n",
    "<br>\n",
    "<div style=\"text-align: center\"> Stanford University Winter 2021 </div>\n",
    "<br>\n",
    "<div style=\"text-align: center\"> Erick Blankenberg, Scott Blankenberg </div>"
   ]
  },
  {
   "cell_type": "markdown",
   "metadata": {},
   "source": [
    "---\n",
    "_Note: Run all of these cells in order if using for the first time. Make sure that your kernel is set to the environment created with `stereoEnviron.yml`._"
   ]
  },
  {
   "cell_type": "markdown",
   "metadata": {},
   "source": [
    "---\n",
    "Imports relevant assets to run all of the algorithms."
   ]
  },
  {
   "cell_type": "markdown",
   "metadata": {},
   "source": [
    "1). A Fuzzy Logic Approach for Real Time Processing"
   ]
  },
  {
   "cell_type": "code",
   "execution_count": null,
   "metadata": {},
   "outputs": [],
   "source": []
  },
  {
   "cell_type": "markdown",
   "metadata": {},
   "source": [
    "2). DeepPruner"
   ]
  },
  {
   "cell_type": "code",
   "execution_count": 15,
   "metadata": {},
   "outputs": [
    {
     "name": "stdout",
     "output_type": "stream",
     "text": [
      "Trained model already in directory.\n"
     ]
    }
   ],
   "source": [
    "from Utils.google_drive_downloader import GoogleDriveDownloader as gdd\n",
    "import os, ssl, urllib, shutil, zipfile\n",
    "if (not os.environ.get('PYTHONHTTPSVERIFY', '') and getattr(ssl, '_create_unverified_context', None)):\n",
    "    ssl._create_default_https_context = ssl._create_unverified_context\n",
    "\n",
    "# NOTE:\n",
    "#    You need to use the modified version of the repository included in this repository. If \n",
    "#    you want to use the original DeepPruner you will need to modify the config scripts and \n",
    "#    references to CUDA devices in files in the \"models\" directory to run on a CPU only machine.\n",
    "\n",
    "# Retrieve trained model\n",
    "if not os.path.isfile(\"Algorithms/DeepPruner/DeepPruner-best-kitti.tar\"):\n",
    "    print(\"Starting trained model download...\")\n",
    "    gdd.download_file_from_google_drive(file_id='1mSendpKq0vdQMr5XVp5zAHm37dwEgcun', dest_path='./Algorithms/DeepPruner/DeepPruner-best-kitti.tar')\n",
    "    print(\"Finshed downloading trained model.\")\n",
    "else:\n",
    "    print(\"Trained model already in directory.\")"
   ]
  },
  {
   "cell_type": "code",
   "execution_count": 15,
   "metadata": {},
   "outputs": [],
   "source": []
  },
  {
   "cell_type": "markdown",
   "metadata": {},
   "source": [
    "3). XXXX"
   ]
  },
  {
   "cell_type": "code",
   "execution_count": null,
   "metadata": {},
   "outputs": [],
   "source": []
  },
  {
   "cell_type": "markdown",
   "metadata": {},
   "source": [
    "4). Test images"
   ]
  },
  {
   "cell_type": "code",
   "execution_count": 16,
   "metadata": {},
   "outputs": [
    {
     "name": "stdout",
     "output_type": "stream",
     "text": [
      "No Data folder found, creating empty folder...\n"
     ]
    }
   ],
   "source": [
    "import os\n",
    "\n",
    "# Feel free to add more files, if you run this twice existing files will not be re-loaded so just append and load-away!\n",
    "\n",
    "imageMaxDims = [540, 960] # rows, columns. Some algorithms crash when running on high resolution data. Images and disparities are resized so that no dimension exceeds these values\n",
    "\n",
    "# List of all sources, each one corresponds to a directory in \"Data\" which contains Left.jpg, Right.jpg, calib.txt, gTruth.jpg\n",
    "# Actually importing these is in each of the next cells, if the subfolder does not exist then the image is skipped during evaluation\n",
    "\n",
    "testImages = list()\n",
    "root = os.getcwd() + \"/Data\"\n",
    "if not os.path.isdir(root):\n",
    "    print(\"No Data folder found, creating empty folder...\")\n",
    "    os.mkdir(root)\n",
    "else:\n",
    "    for files in os.listdir(root):    \n",
    "        if os.path.isdir(os.path.join(root,files)):\n",
    "            testImages.append(files)\n",
    "    print(\"Existing Images: \")\n",
    "    print(testImages)\n"
   ]
  },
  {
   "cell_type": "code",
   "execution_count": 17,
   "metadata": {},
   "outputs": [
    {
     "ename": "KeyboardInterrupt",
     "evalue": "",
     "output_type": "error",
     "traceback": [
      "\u001b[0;31m---------------------------------------------------------------------------\u001b[0m",
      "\u001b[0;31mKeyboardInterrupt\u001b[0m                         Traceback (most recent call last)",
      "\u001b[0;32m<ipython-input-17-02dfbdda98e0>\u001b[0m in \u001b[0;36m<module>\u001b[0;34m\u001b[0m\n\u001b[1;32m     12\u001b[0m     \u001b[0;32mif\u001b[0m \u001b[0;32mnot\u001b[0m \u001b[0mos\u001b[0m\u001b[0;34m.\u001b[0m\u001b[0mpath\u001b[0m\u001b[0;34m.\u001b[0m\u001b[0misdir\u001b[0m\u001b[0;34m(\u001b[0m\u001b[0;34m'Data/%s'\u001b[0m \u001b[0;34m%\u001b[0m \u001b[0mimageFolderName\u001b[0m\u001b[0;34m)\u001b[0m\u001b[0;34m:\u001b[0m\u001b[0;34m\u001b[0m\u001b[0;34m\u001b[0m\u001b[0m\n\u001b[1;32m     13\u001b[0m         \u001b[0mos\u001b[0m\u001b[0;34m.\u001b[0m\u001b[0mmkdir\u001b[0m\u001b[0;34m(\u001b[0m\u001b[0;34m'Data/%s'\u001b[0m \u001b[0;34m%\u001b[0m \u001b[0mimageFolderName\u001b[0m\u001b[0;34m)\u001b[0m\u001b[0;34m\u001b[0m\u001b[0;34m\u001b[0m\u001b[0m\n\u001b[0;32m---> 14\u001b[0;31m         \u001b[0murllib\u001b[0m\u001b[0;34m.\u001b[0m\u001b[0mrequest\u001b[0m\u001b[0;34m.\u001b[0m\u001b[0murlretrieve\u001b[0m\u001b[0;34m(\u001b[0m\u001b[0;34m\"https://vision.middlebury.edu/stereo/data/scenes2014/datasets/%s/im0.png\"\u001b[0m \u001b[0;34m%\u001b[0m \u001b[0mcurrentImageName\u001b[0m\u001b[0;34m,\u001b[0m \u001b[0;34m'Data/%s/Left.png'\u001b[0m \u001b[0;34m%\u001b[0m \u001b[0mimageFolderName\u001b[0m\u001b[0;34m)\u001b[0m\u001b[0;34m\u001b[0m\u001b[0;34m\u001b[0m\u001b[0m\n\u001b[0m\u001b[1;32m     15\u001b[0m         \u001b[0murllib\u001b[0m\u001b[0;34m.\u001b[0m\u001b[0mrequest\u001b[0m\u001b[0;34m.\u001b[0m\u001b[0murlretrieve\u001b[0m\u001b[0;34m(\u001b[0m\u001b[0;34m\"https://vision.middlebury.edu/stereo/data/scenes2014/datasets/%s/im1.png\"\u001b[0m \u001b[0;34m%\u001b[0m \u001b[0mcurrentImageName\u001b[0m\u001b[0;34m,\u001b[0m \u001b[0;34m'Data/%s/Right.png'\u001b[0m \u001b[0;34m%\u001b[0m \u001b[0mimageFolderName\u001b[0m\u001b[0;34m)\u001b[0m\u001b[0;34m\u001b[0m\u001b[0;34m\u001b[0m\u001b[0m\n\u001b[1;32m     16\u001b[0m         \u001b[0murllib\u001b[0m\u001b[0;34m.\u001b[0m\u001b[0mrequest\u001b[0m\u001b[0;34m.\u001b[0m\u001b[0murlretrieve\u001b[0m\u001b[0;34m(\u001b[0m\u001b[0;34m\"https://vision.middlebury.edu/stereo/data/scenes2014/datasets/%s/calib.txt\"\u001b[0m \u001b[0;34m%\u001b[0m \u001b[0mcurrentImageName\u001b[0m\u001b[0;34m,\u001b[0m \u001b[0;34m'Data/%s/calib.txt'\u001b[0m \u001b[0;34m%\u001b[0m \u001b[0mimageFolderName\u001b[0m\u001b[0;34m)\u001b[0m\u001b[0;34m\u001b[0m\u001b[0;34m\u001b[0m\u001b[0m\n",
      "\u001b[0;32m~/anaconda/envs/stereoEnviron/lib/python3.7/urllib/request.py\u001b[0m in \u001b[0;36murlretrieve\u001b[0;34m(url, filename, reporthook, data)\u001b[0m\n\u001b[1;32m    274\u001b[0m \u001b[0;34m\u001b[0m\u001b[0m\n\u001b[1;32m    275\u001b[0m             \u001b[0;32mwhile\u001b[0m \u001b[0;32mTrue\u001b[0m\u001b[0;34m:\u001b[0m\u001b[0;34m\u001b[0m\u001b[0;34m\u001b[0m\u001b[0m\n\u001b[0;32m--> 276\u001b[0;31m                 \u001b[0mblock\u001b[0m \u001b[0;34m=\u001b[0m \u001b[0mfp\u001b[0m\u001b[0;34m.\u001b[0m\u001b[0mread\u001b[0m\u001b[0;34m(\u001b[0m\u001b[0mbs\u001b[0m\u001b[0;34m)\u001b[0m\u001b[0;34m\u001b[0m\u001b[0;34m\u001b[0m\u001b[0m\n\u001b[0m\u001b[1;32m    277\u001b[0m                 \u001b[0;32mif\u001b[0m \u001b[0;32mnot\u001b[0m \u001b[0mblock\u001b[0m\u001b[0;34m:\u001b[0m\u001b[0;34m\u001b[0m\u001b[0;34m\u001b[0m\u001b[0m\n\u001b[1;32m    278\u001b[0m                     \u001b[0;32mbreak\u001b[0m\u001b[0;34m\u001b[0m\u001b[0;34m\u001b[0m\u001b[0m\n",
      "\u001b[0;32m~/anaconda/envs/stereoEnviron/lib/python3.7/http/client.py\u001b[0m in \u001b[0;36mread\u001b[0;34m(self, amt)\u001b[0m\n\u001b[1;32m    459\u001b[0m             \u001b[0;31m# Amount is given, implement using readinto\u001b[0m\u001b[0;34m\u001b[0m\u001b[0;34m\u001b[0m\u001b[0;34m\u001b[0m\u001b[0m\n\u001b[1;32m    460\u001b[0m             \u001b[0mb\u001b[0m \u001b[0;34m=\u001b[0m \u001b[0mbytearray\u001b[0m\u001b[0;34m(\u001b[0m\u001b[0mamt\u001b[0m\u001b[0;34m)\u001b[0m\u001b[0;34m\u001b[0m\u001b[0;34m\u001b[0m\u001b[0m\n\u001b[0;32m--> 461\u001b[0;31m             \u001b[0mn\u001b[0m \u001b[0;34m=\u001b[0m \u001b[0mself\u001b[0m\u001b[0;34m.\u001b[0m\u001b[0mreadinto\u001b[0m\u001b[0;34m(\u001b[0m\u001b[0mb\u001b[0m\u001b[0;34m)\u001b[0m\u001b[0;34m\u001b[0m\u001b[0;34m\u001b[0m\u001b[0m\n\u001b[0m\u001b[1;32m    462\u001b[0m             \u001b[0;32mreturn\u001b[0m \u001b[0mmemoryview\u001b[0m\u001b[0;34m(\u001b[0m\u001b[0mb\u001b[0m\u001b[0;34m)\u001b[0m\u001b[0;34m[\u001b[0m\u001b[0;34m:\u001b[0m\u001b[0mn\u001b[0m\u001b[0;34m]\u001b[0m\u001b[0;34m.\u001b[0m\u001b[0mtobytes\u001b[0m\u001b[0;34m(\u001b[0m\u001b[0;34m)\u001b[0m\u001b[0;34m\u001b[0m\u001b[0;34m\u001b[0m\u001b[0m\n\u001b[1;32m    463\u001b[0m         \u001b[0;32melse\u001b[0m\u001b[0;34m:\u001b[0m\u001b[0;34m\u001b[0m\u001b[0;34m\u001b[0m\u001b[0m\n",
      "\u001b[0;32m~/anaconda/envs/stereoEnviron/lib/python3.7/http/client.py\u001b[0m in \u001b[0;36mreadinto\u001b[0;34m(self, b)\u001b[0m\n\u001b[1;32m    503\u001b[0m         \u001b[0;31m# connection, and the user is reading more bytes than will be provided\u001b[0m\u001b[0;34m\u001b[0m\u001b[0;34m\u001b[0m\u001b[0;34m\u001b[0m\u001b[0m\n\u001b[1;32m    504\u001b[0m         \u001b[0;31m# (for example, reading in 1k chunks)\u001b[0m\u001b[0;34m\u001b[0m\u001b[0;34m\u001b[0m\u001b[0;34m\u001b[0m\u001b[0m\n\u001b[0;32m--> 505\u001b[0;31m         \u001b[0mn\u001b[0m \u001b[0;34m=\u001b[0m \u001b[0mself\u001b[0m\u001b[0;34m.\u001b[0m\u001b[0mfp\u001b[0m\u001b[0;34m.\u001b[0m\u001b[0mreadinto\u001b[0m\u001b[0;34m(\u001b[0m\u001b[0mb\u001b[0m\u001b[0;34m)\u001b[0m\u001b[0;34m\u001b[0m\u001b[0;34m\u001b[0m\u001b[0m\n\u001b[0m\u001b[1;32m    506\u001b[0m         \u001b[0;32mif\u001b[0m \u001b[0;32mnot\u001b[0m \u001b[0mn\u001b[0m \u001b[0;32mand\u001b[0m \u001b[0mb\u001b[0m\u001b[0;34m:\u001b[0m\u001b[0;34m\u001b[0m\u001b[0;34m\u001b[0m\u001b[0m\n\u001b[1;32m    507\u001b[0m             \u001b[0;31m# Ideally, we would raise IncompleteRead if the content-length\u001b[0m\u001b[0;34m\u001b[0m\u001b[0;34m\u001b[0m\u001b[0;34m\u001b[0m\u001b[0m\n",
      "\u001b[0;32m~/anaconda/envs/stereoEnviron/lib/python3.7/socket.py\u001b[0m in \u001b[0;36mreadinto\u001b[0;34m(self, b)\u001b[0m\n\u001b[1;32m    587\u001b[0m         \u001b[0;32mwhile\u001b[0m \u001b[0;32mTrue\u001b[0m\u001b[0;34m:\u001b[0m\u001b[0;34m\u001b[0m\u001b[0;34m\u001b[0m\u001b[0m\n\u001b[1;32m    588\u001b[0m             \u001b[0;32mtry\u001b[0m\u001b[0;34m:\u001b[0m\u001b[0;34m\u001b[0m\u001b[0;34m\u001b[0m\u001b[0m\n\u001b[0;32m--> 589\u001b[0;31m                 \u001b[0;32mreturn\u001b[0m \u001b[0mself\u001b[0m\u001b[0;34m.\u001b[0m\u001b[0m_sock\u001b[0m\u001b[0;34m.\u001b[0m\u001b[0mrecv_into\u001b[0m\u001b[0;34m(\u001b[0m\u001b[0mb\u001b[0m\u001b[0;34m)\u001b[0m\u001b[0;34m\u001b[0m\u001b[0;34m\u001b[0m\u001b[0m\n\u001b[0m\u001b[1;32m    590\u001b[0m             \u001b[0;32mexcept\u001b[0m \u001b[0mtimeout\u001b[0m\u001b[0;34m:\u001b[0m\u001b[0;34m\u001b[0m\u001b[0;34m\u001b[0m\u001b[0m\n\u001b[1;32m    591\u001b[0m                 \u001b[0mself\u001b[0m\u001b[0;34m.\u001b[0m\u001b[0m_timeout_occurred\u001b[0m \u001b[0;34m=\u001b[0m \u001b[0;32mTrue\u001b[0m\u001b[0;34m\u001b[0m\u001b[0;34m\u001b[0m\u001b[0m\n",
      "\u001b[0;32m~/anaconda/envs/stereoEnviron/lib/python3.7/ssl.py\u001b[0m in \u001b[0;36mrecv_into\u001b[0;34m(self, buffer, nbytes, flags)\u001b[0m\n\u001b[1;32m   1069\u001b[0m                   \u001b[0;34m\"non-zero flags not allowed in calls to recv_into() on %s\"\u001b[0m \u001b[0;34m%\u001b[0m\u001b[0;34m\u001b[0m\u001b[0;34m\u001b[0m\u001b[0m\n\u001b[1;32m   1070\u001b[0m                   self.__class__)\n\u001b[0;32m-> 1071\u001b[0;31m             \u001b[0;32mreturn\u001b[0m \u001b[0mself\u001b[0m\u001b[0;34m.\u001b[0m\u001b[0mread\u001b[0m\u001b[0;34m(\u001b[0m\u001b[0mnbytes\u001b[0m\u001b[0;34m,\u001b[0m \u001b[0mbuffer\u001b[0m\u001b[0;34m)\u001b[0m\u001b[0;34m\u001b[0m\u001b[0;34m\u001b[0m\u001b[0m\n\u001b[0m\u001b[1;32m   1072\u001b[0m         \u001b[0;32melse\u001b[0m\u001b[0;34m:\u001b[0m\u001b[0;34m\u001b[0m\u001b[0;34m\u001b[0m\u001b[0m\n\u001b[1;32m   1073\u001b[0m             \u001b[0;32mreturn\u001b[0m \u001b[0msuper\u001b[0m\u001b[0;34m(\u001b[0m\u001b[0;34m)\u001b[0m\u001b[0;34m.\u001b[0m\u001b[0mrecv_into\u001b[0m\u001b[0;34m(\u001b[0m\u001b[0mbuffer\u001b[0m\u001b[0;34m,\u001b[0m \u001b[0mnbytes\u001b[0m\u001b[0;34m,\u001b[0m \u001b[0mflags\u001b[0m\u001b[0;34m)\u001b[0m\u001b[0;34m\u001b[0m\u001b[0;34m\u001b[0m\u001b[0m\n",
      "\u001b[0;32m~/anaconda/envs/stereoEnviron/lib/python3.7/ssl.py\u001b[0m in \u001b[0;36mread\u001b[0;34m(self, len, buffer)\u001b[0m\n\u001b[1;32m    927\u001b[0m         \u001b[0;32mtry\u001b[0m\u001b[0;34m:\u001b[0m\u001b[0;34m\u001b[0m\u001b[0;34m\u001b[0m\u001b[0m\n\u001b[1;32m    928\u001b[0m             \u001b[0;32mif\u001b[0m \u001b[0mbuffer\u001b[0m \u001b[0;32mis\u001b[0m \u001b[0;32mnot\u001b[0m \u001b[0;32mNone\u001b[0m\u001b[0;34m:\u001b[0m\u001b[0;34m\u001b[0m\u001b[0;34m\u001b[0m\u001b[0m\n\u001b[0;32m--> 929\u001b[0;31m                 \u001b[0;32mreturn\u001b[0m \u001b[0mself\u001b[0m\u001b[0;34m.\u001b[0m\u001b[0m_sslobj\u001b[0m\u001b[0;34m.\u001b[0m\u001b[0mread\u001b[0m\u001b[0;34m(\u001b[0m\u001b[0mlen\u001b[0m\u001b[0;34m,\u001b[0m \u001b[0mbuffer\u001b[0m\u001b[0;34m)\u001b[0m\u001b[0;34m\u001b[0m\u001b[0;34m\u001b[0m\u001b[0m\n\u001b[0m\u001b[1;32m    930\u001b[0m             \u001b[0;32melse\u001b[0m\u001b[0;34m:\u001b[0m\u001b[0;34m\u001b[0m\u001b[0;34m\u001b[0m\u001b[0m\n\u001b[1;32m    931\u001b[0m                 \u001b[0;32mreturn\u001b[0m \u001b[0mself\u001b[0m\u001b[0;34m.\u001b[0m\u001b[0m_sslobj\u001b[0m\u001b[0;34m.\u001b[0m\u001b[0mread\u001b[0m\u001b[0;34m(\u001b[0m\u001b[0mlen\u001b[0m\u001b[0;34m)\u001b[0m\u001b[0;34m\u001b[0m\u001b[0;34m\u001b[0m\u001b[0m\n",
      "\u001b[0;31mKeyboardInterrupt\u001b[0m: "
     ]
    }
   ],
   "source": [
    "# Middlebury Stereo Evaluation 2014 Images (Full Resolution)\n",
    "\n",
    "import os, ssl, urllib\n",
    "if (not os.environ.get('PYTHONHTTPSVERIFY', '') and getattr(ssl, '_create_unverified_context', None)):\n",
    "    ssl._create_default_https_context = ssl._create_unverified_context\n",
    "\n",
    "# takes 6 mins per image set, uncomment this for final load mbd32014Images = [\"Adirondack-imperfect\", \"Backpack-imperfect\", \"Bicycle1-imperfect\", \"Cable-imperfect\", \"Classroom1-imperfect\", \"Couch-imperfect\", \"Flowers-imperfect\", \"Jadeplant-imperfect\", \"Mask-imperfect\", \"Motorcycle-imperfect\", \"Piano-imperfect\", \"Pipes-imperfect\", \"Playroom-imperfect\", \"Playtable-imperfect\", \"Recycle-imperfect\", \"Shelves-imperfect\", \"Shelves-imperfect\", \"Shopvac-imperfect\", \"Sticks-imperfect\", \"Storage-imperfect\", \"Sword1-imperfect\", \"Sword2-imperfect\", \"Umbrella-imperfect\", \"Vintage-imperfect\"]\n",
    "mbd32014Images = [\"Adirondack-imperfect\", \"Backpack-imperfect\", \"Bicycle1-imperfect\", \"Cable-imperfect\"]\n",
    "\n",
    "for currentImageName in mbd32014Images:\n",
    "    imageFolderName = 'MBD_2014Scenes_%s' % (currentImageName)\n",
    "    if not os.path.isdir('Data/%s' % imageFolderName):\n",
    "        os.mkdir('Data/%s' % imageFolderName)\n",
    "        urllib.request.urlretrieve(\"https://vision.middlebury.edu/stereo/data/scenes2014/datasets/%s/im0.png\" % currentImageName, 'Data/%s/Left.png' % imageFolderName)\n",
    "        urllib.request.urlretrieve(\"https://vision.middlebury.edu/stereo/data/scenes2014/datasets/%s/im1.png\" % currentImageName, 'Data/%s/Right.png' % imageFolderName)\n",
    "        urllib.request.urlretrieve(\"https://vision.middlebury.edu/stereo/data/scenes2014/datasets/%s/calib.txt\" % currentImageName, 'Data/%s/calib.txt' % imageFolderName)\n",
    "        urllib.request.urlretrieve(\"https://vision.middlebury.edu/stereo/data/scenes2014/datasets/%s/disp0.pfm\" % currentImageName, 'Data/%s/disparityGTLeft.pfm' % imageFolderName)\n",
    "        urllib.request.urlretrieve(\"https://vision.middlebury.edu/stereo/data/scenes2014/datasets/%s/disp1.pfm\" % currentImageName, 'Data/%s/disparityGTRight.pfm' % imageFolderName)\n",
    "        testImages.append(imageFolderName)\n",
    "        print(\"Loaded: %s\" % currentImageName)\n",
    "    else:\n",
    "        print(\"Already Exists: %s\" % currentImageName)\n",
    "        \n",
    "print(\"Done Loading!\")"
   ]
  },
  {
   "cell_type": "code",
   "execution_count": null,
   "metadata": {},
   "outputs": [],
   "source": [
    "# Middlebury Stereo Evaluation 2006 Half Resolution Images\n",
    "\"\"\"\n",
    "import os, ssl, urllib\n",
    "if (not os.environ.get('PYTHONHTTPSVERIFY', '') and getattr(ssl, '_create_unverified_context', None)):\n",
    "    ssl._create_default_https_context = ssl._create_unverified_context\n",
    "\n",
    "# takes 6 mins per image set, uncomment this for final load mbd32014Images = [\"Adirondack-imperfect\", \"Backpack-imperfect\", \"Bicycle1-imperfect\", \"Cable-imperfect\", \"Classroom1-imperfect\", \"Couch-imperfect\", \"Flowers-imperfect\", \"Jadeplant-imperfect\", \"Mask-imperfect\", \"Motorcycle-imperfect\", \"Piano-imperfect\", \"Pipes-imperfect\", \"Playroom-imperfect\", \"Playtable-imperfect\", \"Recycle-imperfect\", \"Shelves-imperfect\", \"Shelves-imperfect\", \"Shopvac-imperfect\", \"Sticks-imperfect\", \"Storage-imperfect\", \"Sword1-imperfect\", \"Sword2-imperfect\", \"Umbrella-imperfect\", \"Vintage-imperfect\"]\n",
    "mbd2006HalfImages = [\"\", \"\", \"\", \"\", \"\"]\n",
    "\n",
    "for currentImageName in mbd32014Images:\n",
    "    imageFolderName = 'MBD_2014Scenes_%s' % (currentImageName)\n",
    "    if not os.path.isdir('Data/%s' % imageFolderName):\n",
    "        os.mkdir('Data/%s' % imageFolderName)\n",
    "        urllib.request.urlretrieve(\"https://vision.middlebury.edu/stereo/data/scenes2014/datasets/%s/im0.png\" % currentImageName, 'Data/%s/Left.png' % imageFolderName)\n",
    "        urllib.request.urlretrieve(\"https://vision.middlebury.edu/stereo/data/scenes2014/datasets/%s/im1.png\" % currentImageName, 'Data/%s/Right.png' % imageFolderName)\n",
    "        urllib.request.urlretrieve(\"https://vision.middlebury.edu/stereo/data/scenes2014/datasets/%s/calib.txt\" % currentImageName, 'Data/%s/calib.txt' % imageFolderName)\n",
    "        urllib.request.urlretrieve(\"https://vision.middlebury.edu/stereo/data/scenes2014/datasets/%s/disp0.pfm\" % currentImageName, 'Data/%s/disparityGTLeft.pfm' % imageFolderName)\n",
    "        urllib.request.urlretrieve(\"https://vision.middlebury.edu/stereo/data/scenes2014/datasets/%s/disp1.pfm\" % currentImageName, 'Data/%s/disparityGTRight.pfm' % imageFolderName)\n",
    "        testImages.append(imageFolderName)\n",
    "        print(\"Loaded: %s\" % currentImageName)\n",
    "    else:\n",
    "        print(\"Already Exists: %s\" % currentImageName)\n",
    "\n",
    "\"\"\""
   ]
  },
  {
   "cell_type": "markdown",
   "metadata": {},
   "source": [
    "---\n",
    "Runs each of the algorithms"
   ]
  },
  {
   "cell_type": "code",
   "execution_count": null,
   "metadata": {},
   "outputs": [],
   "source": [
    "# Fuzzy Logic\n"
   ]
  },
  {
   "cell_type": "code",
   "execution_count": 13,
   "metadata": {},
   "outputs": [
    {
     "name": "stdout",
     "output_type": "stream",
     "text": [
      "Number of model parameters: 7390142\n",
      "Loading model...\n",
      "Model loaded. Running evaluations...\n",
      "Disparity for image MBD_2014Scenes_Adirondack-imperfect alreay exists, skipping.\n",
      "Disparity for image MBD_2014Scenes_Cable-imperfect alreay exists, skipping.\n",
      "Disparity for image MBD_2014Scenes_Bicycle1-imperfect alreay exists, skipping.\n",
      "Disparity for image MBD_2014Scenes_Backpack-imperfect alreay exists, skipping.\n"
     ]
    }
   ],
   "source": [
    "# Deeppruner\n",
    "\n",
    "import os, sys, random\n",
    "import torch, skimage.io, numpy as np\n",
    "from Utils import helperfuncs\n",
    "sys.path.append(os.path.join(os.path.dirname(os.getcwd()), '..',))\n",
    "scriptPath = os.path.realpath(os.path.dirname(sys.argv[0]))\n",
    "currentDir = os.getcwd() # Hack to correct deeppruner imports, TODO MODIFY SOURCE FILES SINCE WE ARENT DOWNLOADING FROM SCRATCH ANYMORE\n",
    "os.chdir(currentDir +  '/Algorithms/DeepPruner')\n",
    "from dataloader import preprocess\n",
    "from models.deeppruner import DeepPruner\n",
    "from models.config import config as config_args\n",
    "os.chdir(currentDir)\n",
    "\n",
    "torch.backends.cudnn.benchmark = True\n",
    "doUseCuda = torch.cuda.is_available()\n",
    "costAggregatorScale = config_args.cost_aggregator_scale\n",
    "downsampleScale     = costAggregatorScale * 8.0\n",
    "\n",
    "if doUseCuda:\n",
    "    torch.manual_seed(args.seed)\n",
    "    np.random.seed(args.seed)\n",
    "    random.seed(args.seed)\n",
    "    torch.cuda.manual_seed(args.seed)\n",
    "    torch.backends.cudnn.deterministic = True\n",
    "\n",
    "model = DeepPruner()\n",
    "model = torch.nn.DataParallel(model)\n",
    "if doUseCuda:\n",
    "    model.cuda()\n",
    "\n",
    "print('Number of model parameters: {}'.format(sum([p.data.nelement() for p in model.parameters()])))\n",
    "\n",
    "print(\"Loading model...\")\n",
    "state_dict = torch.load(\"./Algorithms/DeepPruner/DeepPruner-best-kitti.tar\", map_location=torch.device('cpu'))\n",
    "model.load_state_dict(state_dict['state_dict'], strict=True)\n",
    "\n",
    "print(\"Model loaded. Running evaluations...\")\n",
    "\n",
    "def runtestDeepPruner(imageLeft, imageRight):\n",
    "    processed = preprocess.get_transform()\n",
    "    imgL = processed(imageLeft).numpy()\n",
    "    imgR = processed(imageRight).numpy()\n",
    "\n",
    "    imgL = np.reshape(imgL, [1, 3, imgL.shape[1], imgL.shape[2]])\n",
    "    imgR = np.reshape(imgR, [1, 3, imgR.shape[1], imgR.shape[2]])\n",
    "\n",
    "    w = imgL.shape[3]\n",
    "    h = imgL.shape[2]\n",
    "    dw = int(downsampleScale - (w%downsampleScale + (w%downsampleScale==0)*downsampleScale))\n",
    "    dh = int(downsampleScale - (h%downsampleScale + (h%downsampleScale==0)*downsampleScale))\n",
    "\n",
    "    top_pad = dh\n",
    "    left_pad = dw\n",
    "    imgL = np.lib.pad(imgL, ((0, 0), (0, 0), (top_pad, 0), (0, left_pad)), mode='constant', constant_values=0)\n",
    "    imgR = np.lib.pad(imgR, ((0, 0), (0, 0), (top_pad, 0), (0, left_pad)), mode='constant', constant_values=0)\n",
    "\n",
    "    model.eval()\n",
    "    disparity = None\n",
    "    with torch.no_grad():\n",
    "        imgLVar = torch.autograd.Variable(torch.FloatTensor(imgL))\n",
    "        imgRVar = torch.autograd.Variable(torch.FloatTensor(imgR))\n",
    "\n",
    "        if doUseCuda:\n",
    "            imgLVar, imgRVar = imgLVar.cuda(), imgRVar.cuda()\n",
    "\n",
    "        disparity = model(imgLVar, imgRVar)\n",
    "    \n",
    "    disparity = disparity[0, top_pad:, :-left_pad].data.cpu().numpy()\n",
    "    \n",
    "    return disparity\n",
    "\n",
    "for currentImage in testImages:\n",
    "    outPath   = \"Output/%s/DeepPruner\" % currentImage\n",
    "    if not os.path.isdir(outPath):\n",
    "        if not os.path.isdir(\"Output\"):\n",
    "            print(\"No Output folder, creating empty folder.\")\n",
    "            os.mkdir(\"Output\")\n",
    "        if not os.path.isdir(\"Output/%s\" % currentImage):\n",
    "            os.mkdir(\"Output/%s\" % currentImage)\n",
    "        os.mkdir(outPath)\n",
    "    elif os.path.isfile(outPath + \"/OutDisparity.png\"):\n",
    "        print(\"Disparity for image %s alreay exists, skipping.\" % (currentImage))\n",
    "        continue\n",
    "        \n",
    "    leftPath  = \"Data/%s/Left.png\" % currentImage\n",
    "    rightPath = \"Data/%s/Right.png\" % currentImage\n",
    "    \n",
    "    # Loads the data\n",
    "    imgL = skimage.io.imread(leftPath)\n",
    "    imgR = skimage.io.imread(rightPath)\n",
    "    \n",
    "    # > Resize \n",
    "    imgL = helperfuncs.standardizedResize(imgL, imageMaxDims)\n",
    "    imgR = helperfuncs.standardizedResize(imgR, imageMaxDims)\n",
    "    # > TODO CAMERA CALIBRATION\n",
    "    \n",
    "    # Does the work\n",
    "    disparity = runtestDeepPruner(imgL, imgR)\n",
    "    \n",
    "    skimage.io.imsave(outPath + \"/OutDisparity.png\", (disparity * 256).astype('uint16'))\n",
    "    print(\"Finished disparity for image %s.\" % (currentImage))\n"
   ]
  },
  {
   "cell_type": "code",
   "execution_count": null,
   "metadata": {},
   "outputs": [],
   "source": [
    "# XXX\n"
   ]
  },
  {
   "cell_type": "markdown",
   "metadata": {},
   "source": [
    "---\n",
    "Compares results"
   ]
  },
  {
   "cell_type": "code",
   "execution_count": null,
   "metadata": {},
   "outputs": [],
   "source": []
  }
 ],
 "metadata": {
  "kernelspec": {
   "display_name": "stereoEnviron",
   "language": "python",
   "name": "stereoenviron"
  },
  "language_info": {
   "codemirror_mode": {
    "name": "ipython",
    "version": 3
   },
   "file_extension": ".py",
   "mimetype": "text/x-python",
   "name": "python",
   "nbconvert_exporter": "python",
   "pygments_lexer": "ipython3",
   "version": "3.7.10"
  }
 },
 "nbformat": 4,
 "nbformat_minor": 2
}
